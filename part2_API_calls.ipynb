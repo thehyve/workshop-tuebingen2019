{
 "cells": [
  {
   "cell_type": "markdown",
   "metadata": {},
   "source": [
    "# Part2: API calls to TranSMART\n",
    "\n",
    "\n",
    "## Preparation: loading libraries and authentication\n",
    "\n",
    "#### Set up packages and connection"
   ]
  },
  {
   "cell_type": "code",
   "execution_count": null,
   "metadata": {},
   "outputs": [],
   "source": [
    "# general packages\n",
    "import json\n",
    "import copy\n",
    "import requests\n",
    "\n",
    "# python API client\n",
    "import transmart\n",
    "from transmart.api.v2.api import Query\n",
    "from transmart.api.v2.constraints import atomic\n",
    "print('transmart python client version: {}'.format(transmart.__version__))"
   ]
  },
  {
   "cell_type": "code",
   "execution_count": null,
   "metadata": {},
   "outputs": [],
   "source": [
    "# ENVIRONMENT CONNECTION SETTINGS\n",
    "\n",
    "# demo environment\n",
    "keycloak_url = 'https://keycloak-dwh-test.thehyve.net'\n",
    "transmart_url = 'https://transmart.thehyve.net'\n",
    "realm = 'transmart'\n",
    "keycloak_client_id= 'transmart-client'\n",
    "\n",
    "# workshop environment\n",
    "\n",
    "# node_id = 18  # the number in the username\n",
    "# server_id = 3  # 1 for nodes 1-6; 2 for nodes 7-12; 3 for nodes 13-18; 4 for nodes 19-24\n",
    "# password = 'FILL IN YOUR PASSWORD'\n",
    "\n",
    "# user = f'user{node_id}'\n",
    "# client_id = f'transmart-node{node_id}'\n",
    "# gb_url = f'https://gb{node_id}.tuebingen{server_id}.thehyve.net'\n",
    "\n",
    "keycloak_token_url = keycloak_url + '/auth/realms/' + realm + '/protocol/openid-connect/token'"
   ]
  },
  {
   "cell_type": "code",
   "execution_count": null,
   "metadata": {},
   "outputs": [],
   "source": [
    "# demo user credentials\n",
    "# user = ...\n",
    "# password = ...\n",
    "\n",
    "# workshop environment\n",
    "user = 'tuebingen2019'\n",
    "password = 'tuebingen2019'"
   ]
  },
  {
   "cell_type": "markdown",
   "metadata": {},
   "source": [
    "Retrieve offline token for API access"
   ]
  },
  {
   "cell_type": "code",
   "execution_count": null,
   "metadata": {},
   "outputs": [],
   "source": [
    "r = requests.post(url=keycloak_token_url,\n",
    "                  data=dict(grant_type='password',\n",
    "                            client_id=keycloak_client_id,\n",
    "                            scope= 'offline_access',\n",
    "                            username=user,\n",
    "                            password=password\n",
    "                           )\n",
    "                 )\n",
    "offline_token = r.json().get('refresh_token')\n",
    "offline_token"
   ]
  },
  {
   "cell_type": "code",
   "execution_count": null,
   "metadata": {},
   "outputs": [],
   "source": [
    "# Create an API object to perform API queries with, using our user credentials\n",
    "\n",
    "api = transmart.get_api(\n",
    "    host = transmart_url, # URL of tranSMART server connected to your Glowing Bear\n",
    "    kc_url = keycloak_url, # URL of Keycloak connected to your Glowing Bear\n",
    "    client_id = keycloak_client_id,\n",
    "    kc_realm = realm, # Realm in Keycloak for the tranSMART application\n",
    "    offline_token = offline_token,\n",
    "    print_urls = True, # Whether or not to print the API URLs used behind the scenes, to learn the API calls.\n",
    "    interactive = False # Prevents pre-loading of studies etc.\n",
    ")\n",
    "\n",
    "# Common errors:\n",
    "# * '401 Client Error: Unauthorized' - Wrong username/password\n",
    "# * 'HTTPSConnectionPool' - Wrong tranSMART or Keycloak URL or no internet\n",
    "# * '404 Client Error: Not Found' - Wrong Keycloak realm"
   ]
  },
  {
   "cell_type": "markdown",
   "metadata": {},
   "source": [
    "## Querying the data"
   ]
  },
  {
   "cell_type": "markdown",
   "metadata": {},
   "source": [
    "### Explore available studies and tree structure"
   ]
  },
  {
   "cell_type": "markdown",
   "metadata": {},
   "source": [
    "#### Get list of available studies"
   ]
  },
  {
   "cell_type": "code",
   "execution_count": null,
   "metadata": {},
   "outputs": [],
   "source": [
    "studies = api.get_studies()\n",
    "studies.dataframe"
   ]
  },
  {
   "cell_type": "markdown",
   "metadata": {},
   "source": [
    "#### Get counts"
   ]
  },
  {
   "cell_type": "markdown",
   "metadata": {},
   "source": [
    "get observation and subject counts for a given study "
   ]
  },
  {
   "cell_type": "code",
   "execution_count": null,
   "metadata": {},
   "outputs": [],
   "source": [
    "csr_study_constraint = atomic.StudyConstraint('SYNTHETICMASS')\n",
    "study_counts = api.observations.counts(constraint=csr_study_constraint)\n",
    "study_counts"
   ]
  },
  {
   "cell_type": "markdown",
   "metadata": {},
   "source": [
    "get observation and subject counts for all studies"
   ]
  },
  {
   "cell_type": "code",
   "execution_count": null,
   "metadata": {},
   "outputs": [],
   "source": [
    "all_counts = api.observations.counts()\n",
    "all_counts"
   ]
  },
  {
   "cell_type": "markdown",
   "metadata": {},
   "source": [
    "#### Get tree"
   ]
  },
  {
   "cell_type": "markdown",
   "metadata": {},
   "source": [
    "visualize tree structure up to X levels deep (change as needed)"
   ]
  },
  {
   "cell_type": "code",
   "execution_count": null,
   "metadata": {},
   "outputs": [],
   "source": [
    "tree = api.tree_nodes(depth=5, counts=True, root='\\\\Demographics\\\\')\n",
    "tree"
   ]
  },
  {
   "cell_type": "code",
   "execution_count": null,
   "metadata": {},
   "outputs": [],
   "source": [
    "tree = api.tree_nodes(depth=3, counts=True, root='\\\\Conditions\\\\ICD10\\\\')\n",
    "tree"
   ]
  },
  {
   "cell_type": "markdown",
   "metadata": {},
   "source": [
    "visualize tree structure only for a certain top node"
   ]
  },
  {
   "cell_type": "code",
   "execution_count": null,
   "metadata": {},
   "outputs": [],
   "source": [
    "tree = api.tree_nodes(root='\\Public Studies\\Tumor Samples\\\\', depth=3, counts=False)\n",
    "tree"
   ]
  },
  {
   "cell_type": "markdown",
   "metadata": {},
   "source": [
    "### Obtain list of tree nodes and corresponding concept codes"
   ]
  },
  {
   "cell_type": "markdown",
   "metadata": {},
   "source": [
    "(Assuming tree is already filtered to include paths under a specific root node - as above)"
   ]
  },
  {
   "cell_type": "code",
   "execution_count": null,
   "metadata": {},
   "outputs": [],
   "source": [
    "f1 = ~tree.dataframe['conceptCode'].isna() \n",
    "f2 = ~tree.dataframe['conceptPath'].isna()\n",
    "f = f1 & f2\n",
    "ftree = tree.dataframe[f]\n",
    "ftree = tree.dataframe[~tree.dataframe['conceptCode'].isna() ]\n",
    "\n",
    "#display result (sorted by concept path)\n",
    "concepts = ftree.loc[:, ['conceptPath', 'name', 'metadata.subject_dimension', 'conceptCode']].dropna(how='all').sort_values(by=['conceptPath'])\n",
    "concepts"
   ]
  },
  {
   "cell_type": "markdown",
   "metadata": {},
   "source": [
    "#### Check available values for a given concept"
   ]
  },
  {
   "cell_type": "markdown",
   "metadata": {},
   "source": [
    "check values for a given concept (e.g. categorical)"
   ]
  },
  {
   "cell_type": "code",
   "execution_count": null,
   "metadata": {},
   "outputs": [],
   "source": [
    "tumor_type_constraint = atomic.ConceptCodeConstraint('4fc4afd045e321c824da01fae5c679cb34d71cac') # tumor type\n",
    "aggregates_per_concept = api.observations.aggregates_per_concept(constraint=tumor_type_constraint)\n",
    "aggregates_per_concept"
   ]
  },
  {
   "cell_type": "markdown",
   "metadata": {},
   "source": [
    "#### Query with a simple constraint"
   ]
  },
  {
   "cell_type": "code",
   "execution_count": null,
   "metadata": {},
   "outputs": [],
   "source": [
    "# get all observations for female patients\n",
    "gender_concept_code = 'e24277e1af6ded3d1a0b231f32e7723c566d5e67'\n",
    "gender_constraint = api.new_constraint(concept=gender_concept_code, value_list=['female'])\n",
    "tumor_type_concept_code = '4fc4afd045e321c824da01fae5c679cb34d71cac'\n",
    "malignant_lymphoma_constraint = api.new_constraint(concept=tumor_type_concept_code, value_list=['Malignant lymphoma, non-Hodgkin'])"
   ]
  },
  {
   "cell_type": "code",
   "execution_count": null,
   "metadata": {},
   "outputs": [],
   "source": [
    "# treat as patient selection -> i.e. patient counts\n",
    "\n",
    "print(api.observations.aggregates_per_concept(constraint=gender_constraint))\n",
    "print(api.observations.counts(constraint=gender_constraint))\n",
    "\n",
    "print(api.observations.aggregates_per_concept(constraint=malignant_lymphoma_constraint))\n",
    "print(api.observations.counts(constraint=malignant_lymphoma_constraint))\n",
    "\n",
    "display(api.observations(constraint=gender_constraint).dataframe.head(1))\n",
    "display(api.observations(constraint=malignant_lymphoma_constraint).dataframe.head(1))"
   ]
  },
  {
   "cell_type": "code",
   "execution_count": null,
   "metadata": {},
   "outputs": [],
   "source": [
    "# treat as observation selection -> i.e. observation counts\n",
    "gender_constraint_sub = copy.copy(gender_constraint)\n",
    "gender_constraint_sub.subselection = 'patient'\n",
    "\n",
    "malignant_lymphoma_constraint_sub = copy.copy(malignant_lymphoma_constraint)\n",
    "malignant_lymphoma_constraint_sub.subselection = 'patient'\n",
    "\n",
    "print(gender_constraint_sub.json())\n",
    "# print(api.observations.aggregates_per_concept(constraint=gender_constraint_sub))\n",
    "print(api.observations.counts(constraint=gender_constraint_sub))\n",
    "\n",
    "print(malignant_lymphoma_constraint_sub.json())\n",
    "# print(api.observations.aggregates_per_concept(constraint=malignant_lymphoma_constraint_sub))\n",
    "print(api.observations.counts(constraint=malignant_lymphoma_constraint_sub))\n",
    "\n",
    "display(api.observations(constraint=gender_constraint_sub).dataframe.head(1))\n",
    "display(api.observations(constraint=malignant_lymphoma_constraint_sub).dataframe.head(1))"
   ]
  },
  {
   "cell_type": "code",
   "execution_count": null,
   "metadata": {},
   "outputs": [],
   "source": [
    "# find concept by concept_path\n",
    "gender_concept_path = '\\\\Public Studies\\\\Tumor Samples\\\\01. Patient information\\\\02. Gender\\\\'\n",
    "gender_concept_code = concepts[concepts['conceptPath']==gender_concept_path]['conceptCode'].unique()[0]\n",
    "gender_concept_code"
   ]
  },
  {
   "cell_type": "code",
   "execution_count": null,
   "metadata": {},
   "outputs": [],
   "source": [
    "gender_constraint = api.new_constraint(concept=gender_concept_code, value_list=['female'])\n",
    "\n",
    "print(api.observations.aggregates_per_concept(constraint=gender_constraint))\n",
    "print(api.observations.counts(constraint=gender_constraint))"
   ]
  },
  {
   "cell_type": "markdown",
   "metadata": {},
   "source": [
    "#### Query with a complex constraint"
   ]
  },
  {
   "cell_type": "code",
   "execution_count": null,
   "metadata": {},
   "outputs": [],
   "source": [
    "# Print all the possible parameters for a query constraint\n",
    "for key in api.new_constraint().params:\n",
    "    print(\"* {}\".format(key))"
   ]
  },
  {
   "cell_type": "code",
   "execution_count": null,
   "metadata": {},
   "outputs": [],
   "source": [
    "# Create constraint: given value for a concept\n",
    "all_females = api.new_constraint(concept=gender_concept_code, value_list=['female'])\n",
    "all_males = api.new_constraint(concept=gender_concept_code, value_list=['male'])"
   ]
  },
  {
   "cell_type": "code",
   "execution_count": null,
   "metadata": {},
   "outputs": [],
   "source": [
    "# WOMEN\n",
    "women_with_malignant_lymphoma = all_females & malignant_lymphoma_constraint\n",
    "\n",
    "# Retrieve and print the counts for observations and patients matching our constraint\n",
    "output = api.observations.counts(constraint=women_with_malignant_lymphoma)\n",
    "print(json.dumps(output, indent=2))\n",
    "\n",
    "# Retrieve the patients matching our constraint and displaying the first five\n",
    "display(api.patients(constraint=women_with_malignant_lymphoma).dataframe.head())\n",
    "\n",
    "# Retrieve the observations matching our constraint and displaying the first five\n",
    "display(api.observations(constraint=women_with_malignant_lymphoma).dataframe.head())"
   ]
  },
  {
   "cell_type": "code",
   "execution_count": null,
   "metadata": {},
   "outputs": [],
   "source": [
    "# MEN\n",
    "men_with_malignant_lymphoma = all_males & malignant_lymphoma_constraint\n",
    "\n",
    "# Retrieve and print the counts for observations and patients matching our constraint\n",
    "output = api.observations.counts(constraint=men_with_malignant_lymphoma)\n",
    "print(json.dumps(output, indent=2))\n",
    "\n",
    "# Retrieve the patients matching our constraint and displaying the first five\n",
    "display(api.patients(constraint=men_with_malignant_lymphoma).dataframe.head())\n",
    "\n",
    "# Retrieve the observations matching our constraint and displaying the first five\n",
    "display(api.observations(constraint=men_with_malignant_lymphoma).dataframe.head())"
   ]
  },
  {
   "cell_type": "markdown",
   "metadata": {},
   "source": [
    "### Show that you can use a mix of AND & OR"
   ]
  },
  {
   "cell_type": "code",
   "execution_count": null,
   "metadata": {},
   "outputs": [],
   "source": [
    "# creating complementary sets (MEN / WOMEN) to be able to test boolean logic"
   ]
  },
  {
   "cell_type": "code",
   "execution_count": null,
   "metadata": {},
   "outputs": [],
   "source": [
    "# \"AND\" (WORKS IN PYTHON CLIENT TOO)\n",
    "# -> shoull return 0 patients/observations, because no patient who's both male and female\n",
    "\n",
    "# Creating a group constraint\n",
    "both_male_and_female_with_malignant_lymphoma = women_with_malignant_lymphoma & copy.copy(men_with_malignant_lymphoma)\n",
    "\n",
    "# Print a representation of our constraint\n",
    "#print(json.dumps(both_male_and_female_with_malignant_lymphoma.json(), indent=2))\n",
    "\n",
    "# Retrieve and print the counts for observations and patients matching our constraint\n",
    "output = api.observations.counts(constraint=both_male_and_female_with_malignant_lymphoma)\n",
    "print(json.dumps(output, indent=2))"
   ]
  },
  {
   "cell_type": "code",
   "execution_count": null,
   "metadata": {},
   "outputs": [],
   "source": [
    "# Nested OR (tumor type combined with male or female)\n",
    "# -> should return ALL patients/observations, because logic implies inclusion of patients that are male or female or have tumor\n",
    "\n",
    "# Creating a group constraint \n",
    "male_or_female_or_malignant_lymphoma = (all_females | all_males) | malignant_lymphoma_constraint\n",
    "\n",
    "# Retrieve and print the counts for observations and patients matching our constraint\n",
    "output = api.observations.counts(constraint=male_or_female_or_malignant_lymphoma)\n",
    "print(json.dumps(output, indent=2))\n",
    "\n",
    "# Retrieve the patients matching our constraint and displaying the first five\n",
    "display(api.patients(constraint=male_or_female_or_malignant_lymphoma).dataframe.head())\n",
    "\n",
    "# Retrieve the observations matching our constraint and displaying the first five\n",
    "display(api.observations(constraint=male_or_female_or_malignant_lymphoma).dataframe.head())"
   ]
  },
  {
   "cell_type": "code",
   "execution_count": null,
   "metadata": {},
   "outputs": [],
   "source": [
    "# Combine OR with AND: both women with a particular tumor type and men with the tumor type\n",
    "all_with_malignant_lymphoma = women_with_malignant_lymphoma | men_with_malignant_lymphoma\n",
    "\n",
    "# Print a representation of our constraint\n",
    "#print(json.dumps(all_with_malignant_lymphoma.json(), indent=2))\n",
    "\n",
    "# Retrieve and print the counts for observations and patients matching our constraint\n",
    "output = api.observations.counts(constraint=all_with_malignant_lymphoma)\n",
    "print(json.dumps(output, indent=2))\n",
    "\n",
    "# Retrieve the patients matching our constraint and displaying the first five\n",
    "display(api.patients(constraint=all_with_malignant_lymphoma).dataframe.head())\n",
    "\n",
    "# Retrieve the observations matching our constraint and displaying the first five\n",
    "display(api.observations(constraint=all_with_malignant_lymphoma).dataframe.head())"
   ]
  },
  {
   "cell_type": "code",
   "execution_count": null,
   "metadata": {},
   "outputs": [],
   "source": [
    "tissue_concept_path = '\\\\Public Studies\\\\Tumor Samples\\\\03. Biosource information\\\\03. Tissue\\\\'\n",
    "tissue_concept_code = concepts[concepts['conceptPath']==tissue_concept_path]['conceptCode'].unique()[0]\n",
    "# print(tissue_concept_code)\n",
    "tissue_constraint = api.new_constraint(concept=tissue_concept_code)\n",
    "# print(tissue_constraint.json())\n",
    "print('Tissue types:', api.observations(constraint=tissue_constraint).dataframe.stringValue.unique())\n",
    "eye_tissue_constraint = api.new_constraint(concept=tissue_concept_code, value_list = ['eye'])\n",
    "eye_tissue_constraint.subselection = 'Biosource ID'\n",
    "\n",
    "# Retrieve and print the counts for observations and patients for eye tissue biosources\n",
    "output = api.observations.counts(constraint=eye_tissue_constraint)\n",
    "print(json.dumps(output, indent=2))\n",
    "\n",
    "print(json.dumps(eye_tissue_constraint.json(), indent=2))\n",
    "\n",
    "# Use subselection to select biomaterials related to the eye tissue biosources\n",
    "# (this leaves out the observations on patient, diagnosis and biosource level)\n",
    "# Note that this is a pure Python dictionary, not a constraint class from the transmart library.\n",
    "eye_tissue_biomaterials_constraint = {\n",
    "    'type': 'subselection',\n",
    "    'dimension': 'Biomaterial ID',\n",
    "    'constraint': eye_tissue_constraint.json()\n",
    "}\n",
    "output = api.observations.counts(constraint=eye_tissue_biomaterials_constraint)\n",
    "print(json.dumps(output, indent=2))\n",
    "\n",
    "\n",
    "display(api.observations(constraint=eye_tissue_biomaterials_constraint).dataframe.head())"
   ]
  },
  {
   "cell_type": "code",
   "execution_count": null,
   "metadata": {},
   "outputs": [],
   "source": []
  }
 ],
 "metadata": {
  "kernelspec": {
   "display_name": "Python 3",
   "language": "python",
   "name": "python3"
  },
  "language_info": {
   "codemirror_mode": {
    "name": "ipython",
    "version": 3
   },
   "file_extension": ".py",
   "mimetype": "text/x-python",
   "name": "python",
   "nbconvert_exporter": "python",
   "pygments_lexer": "ipython3",
   "version": "3.7.4"
  }
 },
 "nbformat": 4,
 "nbformat_minor": 2
}
