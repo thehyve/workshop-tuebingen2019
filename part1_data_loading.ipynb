{
 "cells": [
  {
   "cell_type": "markdown",
   "metadata": {},
   "source": [
    "# Part1: Data loading to TranSMART\n",
    "\n",
    "### Load libraries"
   ]
  },
  {
   "cell_type": "code",
   "execution_count": null,
   "metadata": {},
   "outputs": [],
   "source": [
    "import os\n",
    "import tmtk\n",
    "import json\n",
    "import pandas as pd\n",
    "from pathlib import Path\n",
    "\n",
    "pd.options.display.max_rows = 100\n",
    "pd.options.display.max_columns = 50\n",
    "\n",
    "print('TMTK version: {}'.format(tmtk.__version__))\n",
    "print('Pandas version: {}'.format(pd.__version__))"
   ]
  },
  {
   "cell_type": "markdown",
   "metadata": {},
   "source": [
    "### 1.1 Data import with TMTK from template file\n",
    "\n",
    "<br>\n",
    "<font color=red>\n",
    "<b>EXERCISE 1:</b> <br>\n",
    "BY RUNNING THE CODE YOU'LL GET 2 ERRORS, ONE AFTER YOU RESOLVE THE OTHER. CAN YOU FIX THEM IN THE TREE STRUCTURE FILE?\n",
    "</font>"
   ]
  },
  {
   "cell_type": "code",
   "execution_count": null,
   "metadata": {},
   "outputs": [],
   "source": [
    "study = tmtk.toolbox.template_reader(template_file= 'input/template_file.xlsx')"
   ]
  },
  {
   "cell_type": "markdown",
   "metadata": {},
   "source": [
    "<font color=red>\n",
    "<b>EXERCISE 2:</b> <br>\n",
    "LAB_DATA.xlsx CONTAINS ANOTHER RELEVANT FIELD; ADD IT TO THE TEMPLATE FILE AT THE SAME LEVEL OF NESTING AS THE OTHER VARIABLE FROM THAT FILE (\"CEA (blood/serum)\") </font>"
   ]
  },
  {
   "cell_type": "markdown",
   "metadata": {},
   "source": [
    "### 1.2 Edit tree structure with the Arborist extension\n",
    "<br>\n",
    "<font color=red>\n",
    "<b>EXERCISE 3:</b> <br>\n",
    "THE TREE STRUCTURE FROM THE TEMPLATE DOESN'T SEEM QUITE RIGHT. EXPLORE IT USING THE ARBORIST AND MOVE THE TREE BRANCHES TO THE RIGHT PLACE - SEE PICTURES IN THE PRESENTATION FOR GUIDANCE\n",
    "</font>"
   ]
  },
  {
   "cell_type": "code",
   "execution_count": null,
   "metadata": {},
   "outputs": [],
   "source": [
    "study.call_boris()"
   ]
  },
  {
   "cell_type": "markdown",
   "metadata": {},
   "source": [
    "### 1.3 Data export"
   ]
  },
  {
   "cell_type": "code",
   "execution_count": null,
   "metadata": {},
   "outputs": [],
   "source": [
    "# Assign study id, top node (i.e. where study appears in tree structure), and privacy settings;\n",
    "# by default all studies are private, you must explicitly change the security_required option to make them public\n",
    "study.study_id = 'MY_STUDY' # CHANGE NAME AS YOU WISH!\n",
    "study.security_required = False\n",
    "print(study.study_id)\n",
    "print(study.top_node)\n",
    "print(study.security_required)"
   ]
  },
  {
   "cell_type": "code",
   "execution_count": null,
   "metadata": {},
   "outputs": [],
   "source": [
    "# transmart-copy format\n",
    "export = tmtk.SkinnyExport(study=study, export_directory= 'export')"
   ]
  },
  {
   "cell_type": "code",
   "execution_count": null,
   "metadata": {},
   "outputs": [],
   "source": [
    "export.to_disk()"
   ]
  },
  {
   "cell_type": "markdown",
   "metadata": {},
   "source": [
    "### 1.4 Load the data to TranSMART using transmart-copy\n",
    "\n",
    "**NOTE: you can run the same command from the Jupyter Notebook terminal**"
   ]
  },
  {
   "cell_type": "code",
   "execution_count": null,
   "metadata": {},
   "outputs": [],
   "source": [
    "import subprocess as sub\n",
    "\n",
    "commands = [\n",
    "    'export PGUSER=biomart_user',\n",
    "    'export PGPASSWORD=biomart_user',\n",
    "    'export PGHOST=transmart-database',\n",
    "    'export PGPORT=5432',\n",
    "    'java -jar /transmart-copy.jar -d export'\n",
    "    ]\n",
    "\n",
    "command = '; '.join(commands)\n",
    "p = sub.Popen(command, stdout=sub.PIPE, stderr=sub.PIPE, shell=True)\n",
    "(stdout, stderr) = p.communicate()\n",
    "\n",
    "print('Executing command: {}'.format(command))\n",
    "if p.returncode != 0:\n",
    "    print('stderr:\\n{}'.format(stderr.decode(\"utf-8\")))"
   ]
  },
  {
   "cell_type": "markdown",
   "metadata": {},
   "source": [
    "### 1.5 Refresh the cache before seeing the data in Glowing Bear (TranSMART visual interface)\n",
    "\n",
    "Normally we do this automatically in ETL pipelines, or manually using dedicated tools (such as Postman)<br>\n",
    "\n",
    "**NOTE: YOU NEED TO REPLACE THE VALUES BELOW WITH YOUR OWN LOGIN CREDENTIIALS!**"
   ]
  },
  {
   "cell_type": "code",
   "execution_count": null,
   "metadata": {},
   "outputs": [],
   "source": [
    "# Node specific configuration\n",
    "node_id = 1  # the number in the username\n",
    "server_id = 1  # 1 for nodes 1-6; 2 for nodes 7-12; 3 for nodes 13-18; 4 for nodes 19-24\n",
    "password = '' # fill in your password"
   ]
  },
  {
   "cell_type": "code",
   "execution_count": null,
   "metadata": {},
   "outputs": [],
   "source": [
    "import requests\n",
    "import transmart\n",
    "\n",
    "# General configuration\n",
    "user = f'user{node_id}'\n",
    "client_id = f'transmart-node{node_id}'\n",
    "gb_url = f'https://gb{node_id}.tuebingen{server_id}.thehyve.net'\n",
    "keycloak_url = 'https://keycloak-dwh-test.thehyve.net'\n",
    "keycloak_realm = 'tuebingen2019'\n",
    "\n",
    "# Fetch offline token for API access\n",
    "r = requests.post(url=f'{keycloak_url}/auth/realms/{keycloak_realm}/protocol/openid-connect/token',\n",
    "                  data=dict(grant_type='password',\n",
    "                            client_id=client_id,\n",
    "                            scope= 'offline_access',\n",
    "                            username=user,\n",
    "                            password=password\n",
    "                           )\n",
    "                 )\n",
    "if r.status_code == 200:\n",
    "    offline_token = r.json().get('refresh_token')\n",
    "    print('Offline token retrieved successfully')\n",
    "else:\n",
    "    print(f'Error: {r.status_code}')\n",
    "    print(r.json())\n",
    "\n",
    "# Create an API object to perform API queries with, using the offline token\n",
    "api = transmart.get_api(\n",
    "    host = f'{gb_url}/api/transmart-api-server', # URL of tranSMART server connected to your Glowing Bear\n",
    "    kc_url = keycloak_url, # URL of Keycloak connected to your Glowing Bear\n",
    "    client_id = client_id,\n",
    "    kc_realm = keycloak_realm, # Realm in Keycloak for the tranSMART application\n",
    "    offline_token = offline_token,\n",
    "    print_urls = False, # Whether or not to print the API URLs used behind the scenes, to learn the API calls.\n",
    "    interactive = False # Prevents pre-loading of studies etc.\n",
    ")\n",
    "\n",
    "# Common errors:\n",
    "# * '401 Client Error: Unauthorized' - Wrong username/password\n",
    "# * 'HTTPSConnectionPool' - Wrong tranSMART or Keycloak URL or no internet\n",
    "# * '404 Client Error: Not Found' - Wrong Keycloak realm"
   ]
  },
  {
   "cell_type": "code",
   "execution_count": null,
   "metadata": {},
   "outputs": [],
   "source": [
    "# Clear cache\n",
    "api.admin.after_data_loading_update()"
   ]
  },
  {
   "cell_type": "markdown",
   "metadata": {},
   "source": [
    " -> and now continue to the Glowing Bear link on your piece of paper!"
   ]
  },
  {
   "cell_type": "markdown",
   "metadata": {},
   "source": [
    "### 1.6 - Explore additional TranSMART 17.X features by loading a template with modifiers, ontology, trial visits\n",
    "\n",
    "<br>\n",
    "<font color=red>\n",
    "<b>EXERCISE 4:</b> <br>\n",
    " \n",
    "- Take a look at template_file_EXTRA_FEATURES.xlsx\n",
    "- Explore how the sheets connect to each other:\n",
    "    - How is the data in Trial visits and Ontology linked to clinical data?\n",
    "    - How are modifiers used? (Hint: check for additional columns in the clincal data sheet..)\n",
    "- Upload the data (cell provided below, no need to edit the tree structure this time)\n",
    "- Date errors: date should be formatted as YYYY-MM-DD hh:mm:ss\n",
    "- Explore the uploaded data in Glowing Bear:\n",
    "    - Can you find back the information you saw in the Ontology sheet?\n",
    "    - What about Trial visits and Modifiers? (Ask if you need some help!)\n",
    "</font>"
   ]
  },
  {
   "cell_type": "code",
   "execution_count": null,
   "metadata": {},
   "outputs": [],
   "source": [
    "study_extended = tmtk.toolbox.template_reader(template_file='./exercise_4B/template_file_extended.xlsx')"
   ]
  },
  {
   "cell_type": "code",
   "execution_count": null,
   "metadata": {},
   "outputs": [],
   "source": [
    "# Assign study id, top node (i.e. where study appears in tree structure), and privacy settings;\n",
    "# by default all studies are private, you must explicitly change the security_required option to make them public\n",
    "study_extended.study_id = 'MY_STUDY_EXTENDED' # CHANGE NAME AS YOU WISH!\n",
    "study_extended.security_required = False\n",
    "print(study_extended.study_id)\n",
    "print(study_extended.top_node)\n",
    "print(study_extended.security_required)"
   ]
  },
  {
   "cell_type": "code",
   "execution_count": null,
   "metadata": {},
   "outputs": [],
   "source": [
    "# transmart-copy format\n",
    "export_extended = tmtk.SkinnyExport(study=study_extended, export_directory= 'export_extended')"
   ]
  },
  {
   "cell_type": "code",
   "execution_count": null,
   "metadata": {},
   "outputs": [],
   "source": [
    "export_extended.to_disk()"
   ]
  },
  {
   "cell_type": "code",
   "execution_count": null,
   "metadata": {},
   "outputs": [],
   "source": [
    "import subprocess as sub\n",
    "\n",
    "commands = [\n",
    "    'export PGUSER=biomart_user',\n",
    "    'export PGPASSWORD=biomart_user',\n",
    "    'export PGHOST=transmart-database',\n",
    "    'export PGPORT=5432',\n",
    "    'java -jar /transmart-copy.jar -d export_extended'\n",
    "    ]\n",
    "\n",
    "command = '; '.join(commands)\n",
    "p = sub.Popen(command, stdout=sub.PIPE, stderr=sub.PIPE, shell=True)\n",
    "(stdout, stderr) = p.communicate()\n",
    "\n",
    "print('Executing command: {}'.format(command))\n",
    "if p.returncode != 0:\n",
    "    print('stderr:\\n{}'.format(stderr.decode(\"utf-8\")))"
   ]
  },
  {
   "cell_type": "code",
   "execution_count": null,
   "metadata": {},
   "outputs": [],
   "source": [
    "# Node specific configuration\n",
    "node_id = 1  # the number in the username\n",
    "server_id = 1  # 1 for nodes 1-6; 2 for nodes 7-12; 3 for nodes 13-18; 4 for nodes 19-24\n",
    "password = '' # fill in your password"
   ]
  },
  {
   "cell_type": "code",
   "execution_count": null,
   "metadata": {},
   "outputs": [],
   "source": [
    "import requests\n",
    "import transmart\n",
    "\n",
    "# General configuration\n",
    "user = f'user{node_id}'\n",
    "client_id = f'transmart-node{node_id}'\n",
    "gb_url = f'https://gb{node_id}.tuebingen{server_id}.thehyve.net'\n",
    "keycloak_url = 'https://keycloak-dwh-test.thehyve.net'\n",
    "keycloak_realm = 'tuebingen2019'\n",
    "\n",
    "# Fetch offline token for API access\n",
    "r = requests.post(url=f'{keycloak_url}/auth/realms/{keycloak_realm}/protocol/openid-connect/token',\n",
    "                  data=dict(grant_type='password',\n",
    "                            client_id=client_id,\n",
    "                            scope= 'offline_access',\n",
    "                            username=user,\n",
    "                            password=password\n",
    "                           )\n",
    "                 )\n",
    "if r.status_code == 200:\n",
    "    offline_token = r.json().get('refresh_token')\n",
    "    print('Offline token retrieved successfully')\n",
    "else:\n",
    "    print(f'Error: {r.status_code}')\n",
    "    print(r.json())\n",
    "\n",
    "# Create an API object to perform API queries with, using the offline token\n",
    "api = transmart.get_api(\n",
    "    host = f'{gb_url}/api/transmart-api-server', # URL of tranSMART server connected to your Glowing Bear\n",
    "    kc_url = keycloak_url, # URL of Keycloak connected to your Glowing Bear\n",
    "    client_id = client_id,\n",
    "    kc_realm = keycloak_realm, # Realm in Keycloak for the tranSMART application\n",
    "    offline_token = offline_token,\n",
    "    print_urls = False, # Whether or not to print the API URLs used behind the scenes, to learn the API calls.\n",
    "    interactive = False # Prevents pre-loading of studies etc.\n",
    ")\n",
    "\n",
    "# Common errors:\n",
    "# * '401 Client Error: Unauthorized' - Wrong username/password\n",
    "# * 'HTTPSConnectionPool' - Wrong tranSMART or Keycloak URL or no internet\n",
    "# * '404 Client Error: Not Found' - Wrong Keycloak realm"
   ]
  },
  {
   "cell_type": "code",
   "execution_count": null,
   "metadata": {},
   "outputs": [],
   "source": [
    "# Clear cache\n",
    "api.admin.after_data_loading_update()"
   ]
  },
  {
   "cell_type": "code",
   "execution_count": null,
   "metadata": {},
   "outputs": [],
   "source": []
  }
 ],
 "metadata": {
  "kernelspec": {
   "display_name": "Python 3",
   "language": "python",
   "name": "python3"
  },
  "language_info": {
   "codemirror_mode": {
    "name": "ipython",
    "version": 3
   },
   "file_extension": ".py",
   "mimetype": "text/x-python",
   "name": "python",
   "nbconvert_exporter": "python",
   "pygments_lexer": "ipython3",
   "version": "3.7.4"
  }
 },
 "nbformat": 4,
 "nbformat_minor": 2
}
